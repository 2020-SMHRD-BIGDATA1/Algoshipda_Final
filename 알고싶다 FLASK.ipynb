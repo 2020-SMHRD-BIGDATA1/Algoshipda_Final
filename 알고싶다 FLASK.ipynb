{
 "cells": [
  {
   "cell_type": "code",
   "execution_count": 4,
   "metadata": {},
   "outputs": [],
   "source": [
    "def preprocessing(prediction):\n",
    "\n",
    "    for i in prediction:\n",
    "            pre_ans = i.argmax()  # 예측 레이블\n",
    "            print(i)\n",
    "            print(pre_ans)\n",
    "            pre_ans_str = ''\n",
    "            if pre_ans == 0: pre_ans_str = \"부라노섬\"\n",
    "            elif pre_ans == 1: pre_ans_str = \"에펠탑\"\n",
    "            elif pre_ans == 2: pre_ans_str = \"홀슈타트호수\"\n",
    "            elif pre_ans == 3: pre_ans_str = \"홀슈타트광장\"    \n",
    "            elif pre_ans == 4: pre_ans_str = \"레이크루이스\"\n",
    "            elif pre_ans == 5: pre_ans_str = \"런던아이\"\n",
    "            elif pre_ans == 6: pre_ans_str = \"동방명주\"\n",
    "            elif pre_ans == 7: pre_ans_str = \"포지타노\"   \n",
    "            elif pre_ans == 8: pre_ans_str = \"산토리니\"  \n",
    "                \n",
    "            else: pre_ans_str = \"잔세스칸스\"\n",
    "\n",
    "            if i[0] >= 0.7 : \n",
    "                predict_name=pre_ans_str\n",
    "            if i[1] >= 0.7:\n",
    "                predict_name=pre_ans_str\n",
    "            if i[2] >= 0.7: \n",
    "                predict_name=pre_ans_str\n",
    "            if i[3] >= 0.7:\n",
    "                predict_name=pre_ans_str\n",
    "            if i[4] >= 0.7 :\n",
    "                predict_name=pre_ans_str\n",
    "            if i[5] >= 0.7: \n",
    "                predict_name=pre_ans_str\n",
    "            if i[6] >= 0.7: \n",
    "                predict_name=pre_ans_str\n",
    "            if i[7] >= 0.7: \n",
    "                predict_name=pre_ans_str\n",
    "            if i[8] >= 0.7: \n",
    "                predict_name=pre_ans_str\n",
    "            if i[9] >= 0.7: \n",
    "                predict_name=pre_ans_str\n",
    "    return predict_name"
   ]
  },
  {
   "cell_type": "code",
   "execution_count": 5,
   "metadata": {},
   "outputs": [],
   "source": [
    "def ko_preprocessing(ko_prediction):\n",
    "    ko_predict_name =[]\n",
    "    pre_ans_str = []\n",
    "    for i in ko_prediction:\n",
    "        if i[0] >= 0.3 : \n",
    "            ko_predict_name.append(\"가평_쁘띠프랑스\")\n",
    "        if i[1] >= 0.3:\n",
    "            ko_predict_name.append(\"가평_에델바이스\")\n",
    "        if i[2] >= 0.4: \n",
    "            ko_predict_name.append(\"거제_바람의언덕\")\n",
    "        if i[3] >= 0.3:\n",
    "            ko_predict_name.append(\"남해_다랭이마을\")\n",
    "        if i[4] >= 0.12:\n",
    "            ko_predict_name.append(\"남해_독일마을\")\n",
    "        if i[5] >= 0.15: \n",
    "            ko_predict_name.append(\"부산_감천마을\")\n",
    "        if i[6] >= 0.2: \n",
    "            ko_predict_name.append(\"부산_더베이\")\n",
    "        if i[7] >= 0.02: \n",
    "            ko_predict_name.append(\"부산_장림포구\")\n",
    "        if i[8] >= 0.2: \n",
    "            ko_predict_name.append(\"삼척_장호항\") \n",
    "        if i[9] >= 0.8: \n",
    "            ko_predict_name.append(\"서울_남산타워\")\n",
    "        if i[10] >= 0.3:\n",
    "            ko_predict_name.append(\"송도_센트럴파크\")\n",
    "        if i[11] >= 0.3: \n",
    "            ko_predict_name.append(\"아산_지중해마을\")\n",
    "        if i[12] >= 0.6:\n",
    "            ko_predict_name.append(\"인천_월미도\")\n",
    "        if i[13] >= 0.0015 :\n",
    "            ko_predict_name.append(\"제부도_산토리니펜션\")\n",
    "        if i[14] >= 0.4: \n",
    "            ko_predict_name.append(\"제주_용머리\") \n",
    "        if i[15] >= 0.009: \n",
    "            ko_predict_name.append(\"춘천_산토리니카페\")\n",
    "        if i[16] >= 0.4: \n",
    "            ko_predict_name.append(\"화순_세량지\")\n",
    "\n",
    "    return ko_predict_name"
   ]
  },
  {
   "cell_type": "code",
   "execution_count": 6,
   "metadata": {
    "scrolled": false
   },
   "outputs": [
    {
     "name": "stdout",
     "output_type": "stream",
     "text": [
      "Requirement already up-to-date: cx_Oracle in c:\\users\\smhrd\\anaconda3\\envs\\deep_gpu\\lib\\site-packages (8.0.1)\n",
      " * Serving Flask app \"__main__\" (lazy loading)\n",
      " * Environment: production\n",
      "   WARNING: This is a development server. Do not use it in a production deployment.\n",
      "   Use a production WSGI server instead.\n",
      " * Debug mode: off\n"
     ]
    },
    {
     "name": "stderr",
     "output_type": "stream",
     "text": [
      " * Running on http://192.168.43.59:9000/ (Press CTRL+C to quit)\n"
     ]
    },
    {
     "name": "stdout",
     "output_type": "stream",
     "text": [
      "ImmutableMultiDict([('fileName', 'pearl1.jpg')])\n",
      "pearl1.jpg\n",
      "pearl1.jpg\n",
      "pearl1.jpg\n"
     ]
    },
    {
     "name": "stderr",
     "output_type": "stream",
     "text": [
      "192.168.43.59 - - [26/Oct/2020 12:19:31] \"\u001b[32mGET /predict/predict?fileName=pearl1.jpg HTTP/1.1\u001b[0m\" 302 -\n"
     ]
    },
    {
     "name": "stdout",
     "output_type": "stream",
     "text": [
      "[[0.000 0.000 0.000 0.000 0.000 0.000 0.000 0.000 0.000 1.000 0.000 0.000\n",
      "  0.000 0.000 0.000 0.000 0.000]]\n",
      "[0.000 0.000 0.000 0.000 0.000 0.000 1.000 0.000 0.000 0.000]\n",
      "6\n",
      "동방명주\n",
      "서울_남산타워\n",
      "ImmutableMultiDict([('fileName', 'pearl2.jpg')])\n",
      "pearl2.jpg\n",
      "pearl2.jpg\n",
      "pearl2.jpg\n"
     ]
    },
    {
     "name": "stderr",
     "output_type": "stream",
     "text": [
      "192.168.43.59 - - [26/Oct/2020 12:19:37] \"\u001b[32mGET /predict/predict?fileName=pearl2.jpg HTTP/1.1\u001b[0m\" 302 -\n"
     ]
    },
    {
     "name": "stdout",
     "output_type": "stream",
     "text": [
      "[[0.000 0.000 0.000 0.000 0.000 0.000 0.000 0.000 0.000 1.000 0.000 0.000\n",
      "  0.000 0.000 0.000 0.000 0.000]]\n",
      "[0.000 0.000 0.000 0.000 0.000 0.000 1.000 0.000 0.000 0.000]\n",
      "6\n",
      "동방명주\n",
      "서울_남산타워\n",
      "ImmutableMultiDict([('fileName', 'eiffel3.jpg')])\n",
      "eiffel3.jpg\n",
      "eiffel3.jpg\n",
      "eiffel3.jpg\n"
     ]
    },
    {
     "name": "stderr",
     "output_type": "stream",
     "text": [
      "192.168.43.59 - - [26/Oct/2020 12:19:43] \"\u001b[32mGET /predict/predict?fileName=eiffel3.jpg HTTP/1.1\u001b[0m\" 302 -\n"
     ]
    },
    {
     "name": "stdout",
     "output_type": "stream",
     "text": [
      "[[0.000 0.000 0.000 0.000 0.000 0.000 0.000 0.000 0.000 1.000 0.000 0.000\n",
      "  0.000 0.000 0.000 0.000 0.000]]\n",
      "[0.000 0.000 0.000 0.000 0.000 0.000 1.000 0.000 0.000 0.000]\n",
      "6\n",
      "동방명주\n",
      "서울_남산타워\n",
      "ImmutableMultiDict([('fileName', 'pearl3.jpg')])\n",
      "pearl3.jpg\n",
      "pearl3.jpg\n",
      "pearl3.jpg\n"
     ]
    },
    {
     "name": "stderr",
     "output_type": "stream",
     "text": [
      "192.168.43.59 - - [26/Oct/2020 12:20:25] \"\u001b[32mGET /predict/predict?fileName=pearl3.jpg HTTP/1.1\u001b[0m\" 302 -\n"
     ]
    },
    {
     "name": "stdout",
     "output_type": "stream",
     "text": [
      "[[0.000 0.000 0.000 0.000 0.000 0.000 0.000 0.000 0.000 1.000 0.000 0.000\n",
      "  0.000 0.000 0.000 0.000 0.000]]\n",
      "[0.000 0.000 0.000 0.000 0.000 0.000 1.000 0.000 0.000 0.000]\n",
      "6\n",
      "동방명주\n",
      "서울_남산타워\n",
      "ImmutableMultiDict([('fileName', 'eiffel4.jpg')])\n",
      "eiffel4.jpg\n",
      "eiffel4.jpg\n",
      "eiffel4.jpg\n"
     ]
    },
    {
     "name": "stderr",
     "output_type": "stream",
     "text": [
      "192.168.43.59 - - [26/Oct/2020 12:20:33] \"\u001b[32mGET /predict/predict?fileName=eiffel4.jpg HTTP/1.1\u001b[0m\" 302 -\n"
     ]
    },
    {
     "name": "stdout",
     "output_type": "stream",
     "text": [
      "[[0.000 0.000 0.000 0.000 0.000 0.000 0.000 0.000 0.000 1.000 0.000 0.000\n",
      "  0.000 0.000 0.000 0.000 0.000]]\n",
      "[0.000 0.000 0.000 0.000 0.000 0.000 1.000 0.000 0.000 0.000]\n",
      "6\n",
      "동방명주\n",
      "서울_남산타워\n",
      "ImmutableMultiDict([('fileName', 'london7.jpg')])\n",
      "london7.jpg\n",
      "london7.jpg\n",
      "london7.jpg\n"
     ]
    },
    {
     "name": "stderr",
     "output_type": "stream",
     "text": [
      "192.168.43.59 - - [26/Oct/2020 12:20:48] \"\u001b[32mGET /predict/predict?fileName=london7.jpg HTTP/1.1\u001b[0m\" 302 -\n"
     ]
    },
    {
     "name": "stdout",
     "output_type": "stream",
     "text": [
      "[[0.000 0.000 0.000 0.000 0.000 0.000 0.000 0.000 0.000 0.000 0.000 0.000\n",
      "  1.000 0.000 0.000 0.000 0.000]]\n",
      "[0.000 0.000 0.000 0.000 0.000 1.000 0.000 0.000 0.000 0.000]\n",
      "5\n",
      "런던아이\n",
      "인천_월미도\n",
      "ImmutableMultiDict([('fileName', 'burano1113.jpg')])\n",
      "burano1113.jpg\n",
      "burano1113.jpg\n",
      "burano1113.jpg\n"
     ]
    },
    {
     "name": "stderr",
     "output_type": "stream",
     "text": [
      "192.168.43.59 - - [26/Oct/2020 12:21:00] \"\u001b[32mGET /predict/predict?fileName=burano1113.jpg HTTP/1.1\u001b[0m\" 302 -\n"
     ]
    },
    {
     "name": "stdout",
     "output_type": "stream",
     "text": [
      "[[0.996 0.000 0.000 0.000 0.003 0.000 0.000 0.000 0.000 0.000 0.000 0.001\n",
      "  0.000 0.000 0.000 0.000 0.000]]\n",
      "[1.000 0.000 0.000 0.000 0.000 0.000 0.000 0.000 0.000 0.000]\n",
      "0\n",
      "부라노섬\n",
      "가평_쁘띠프랑스\n",
      "ImmutableMultiDict([('fileName', 'bubu4.jfif')])\n",
      "bubu4.jfif\n",
      "bubu4.jfif\n",
      "bubu4.jfif\n"
     ]
    },
    {
     "name": "stderr",
     "output_type": "stream",
     "text": [
      "192.168.43.59 - - [26/Oct/2020 12:21:20] \"\u001b[32mGET /predict/predict?fileName=bubu4.jfif HTTP/1.1\u001b[0m\" 302 -\n"
     ]
    },
    {
     "name": "stdout",
     "output_type": "stream",
     "text": [
      "[[0.024 0.000 0.104 0.000 0.000 0.000 0.004 0.083 0.004 0.000 0.047 0.155\n",
      "  0.000 0.183 0.000 0.395 0.000]]\n",
      "[1.000 0.000 0.000 0.000 0.000 0.000 0.000 0.000 0.000 0.000]\n",
      "0\n",
      "부라노섬\n",
      "부산_장림포구\n",
      "제부도_산토리니펜션\n",
      "춘천_산토리니카페\n",
      "ImmutableMultiDict([('fileName', 'london8.jpg')])\n",
      "london8.jpg\n",
      "london8.jpg\n",
      "london8.jpg\n"
     ]
    },
    {
     "name": "stderr",
     "output_type": "stream",
     "text": [
      "192.168.43.59 - - [26/Oct/2020 12:22:19] \"\u001b[32mGET /predict/predict?fileName=london8.jpg HTTP/1.1\u001b[0m\" 302 -\n"
     ]
    },
    {
     "name": "stdout",
     "output_type": "stream",
     "text": [
      "[[0.000 0.000 0.000 0.000 0.000 0.000 0.000 0.000 0.000 0.000 0.000 0.000\n",
      "  1.000 0.000 0.000 0.000 0.000]]\n",
      "[0.000 0.000 0.000 0.000 0.000 1.000 0.000 0.000 0.000 0.000]\n",
      "5\n",
      "런던아이\n",
      "인천_월미도\n",
      "ImmutableMultiDict([('fileName', 'lake31.jpg')])\n",
      "lake31.jpg\n",
      "lake31.jpg\n",
      "lake31.jpg\n"
     ]
    },
    {
     "name": "stderr",
     "output_type": "stream",
     "text": [
      "192.168.43.59 - - [26/Oct/2020 12:22:30] \"\u001b[32mGET /predict/predict?fileName=lake31.jpg HTTP/1.1\u001b[0m\" 302 -\n"
     ]
    },
    {
     "name": "stdout",
     "output_type": "stream",
     "text": [
      "[[0.005 0.000 0.000 0.034 0.000 0.000 0.000 0.000 0.000 0.000 0.000 0.005\n",
      "  0.000 0.000 0.078 0.008 0.870]]\n",
      "[0.000 0.000 0.000 0.000 1.000 0.000 0.000 0.000 0.000 0.000]\n",
      "4\n",
      "레이크루이스\n",
      "화순_세량지\n",
      "ImmutableMultiDict([('fileName', 'lake32.jpg')])\n",
      "lake32.jpg\n",
      "lake32.jpg\n",
      "lake32.jpg\n"
     ]
    },
    {
     "name": "stderr",
     "output_type": "stream",
     "text": [
      "192.168.43.59 - - [26/Oct/2020 12:23:29] \"\u001b[32mGET /predict/predict?fileName=lake32.jpg HTTP/1.1\u001b[0m\" 302 -\n"
     ]
    },
    {
     "name": "stdout",
     "output_type": "stream",
     "text": [
      "[[0.005 0.000 0.000 0.034 0.000 0.000 0.000 0.000 0.000 0.000 0.000 0.005\n",
      "  0.000 0.000 0.078 0.008 0.870]]\n",
      "[0.000 0.000 0.000 0.000 1.000 0.000 0.000 0.000 0.000 0.000]\n",
      "4\n",
      "레이크루이스\n",
      "화순_세량지\n",
      "ImmutableMultiDict([('fileName', 'santorini19.jfif')])\n",
      "santorini19.jfif\n",
      "santorini19.jfif\n",
      "santorini19.jfif\n"
     ]
    },
    {
     "name": "stderr",
     "output_type": "stream",
     "text": [
      "192.168.43.59 - - [26/Oct/2020 12:32:41] \"\u001b[32mGET /predict/predict?fileName=santorini19.jfif HTTP/1.1\u001b[0m\" 302 -\n"
     ]
    },
    {
     "name": "stdout",
     "output_type": "stream",
     "text": [
      "[[0.001 0.000 0.000 0.000 0.000 0.000 0.000 0.000 0.006 0.000 0.000 0.960\n",
      "  0.000 0.002 0.000 0.031 0.000]]\n",
      "[0.000 0.000 0.000 0.000 0.000 0.000 0.000 0.000 1.000 0.000]\n",
      "8\n",
      "산토리니\n",
      "아산_지중해마을\n",
      "제부도_산토리니펜션\n",
      "춘천_산토리니카페\n"
     ]
    }
   ],
   "source": [
    "from flask import Flask # 플라스크 클래스 임포트\n",
    "from flask import request,redirect\n",
    "import pickle #데이터 저장/로딩을 위한 모듈\n",
    "import pandas as pd\n",
    "import numpy as np\n",
    "!pip install cx_Oracle --upgrade\n",
    "import cx_Oracle\n",
    "import time\n",
    "from PIL import Image\n",
    "import os, glob, numpy as np\n",
    "from tensorflow.keras.models import load_model\n",
    "import os, os.path, shutil\n",
    "import zipfile\n",
    "from tensorflow.keras import optimizers\n",
    "\n",
    "app = Flask(__name__)#내장변수 name을 이용해 서버를 구동시키는 객체 생성\n",
    "@app.route(\"/predict/predict\", methods=['GET'])\n",
    "def predict_survived() :\n",
    "    if request.method == 'GET' : \n",
    "        print(request.args)\n",
    "        dsn = cx_Oracle.makedsn(\"localhost\", 1521, \"hr\")\n",
    "        db = cx_Oracle.connect(\"hr\", \"hr\", dsn)\n",
    "        cursor = db.cursor()\n",
    "        old_raw = 0\n",
    "        \n",
    "        caltech_dir='C:/Users/smhrd/Desktop/algoshipda/.metadata/.plugins/org.eclipse.wst.server.core/tmp0/wtpwebapps/Algo/upload/'\n",
    "        image_w = 150\n",
    "        image_h = 150\n",
    "\n",
    "        pixels = image_h * image_w * 3\n",
    "\n",
    "        X = []\n",
    "        filename = request.args['fileName']\n",
    "        \n",
    "        print(filename)\n",
    "        print(filename.encode('euc-kr').decode('euc-kr'))\n",
    "        print(filename.encode('utf-8').decode('utf-8'))\n",
    "        \n",
    "        file = caltech_dir+filename\n",
    "        img = Image.open(file)\n",
    "        img = img.convert(\"RGB\")\n",
    "        img = img.resize((image_w, image_h))\n",
    "        data = np.asarray(img)\n",
    "        X.append(data)\n",
    "\n",
    "        X = np.array(X)\n",
    "        \n",
    "        model=load_model('overseas_trip_model.h5')\n",
    "        ko_model=load_model('korea_trip_model5_2.h5')\n",
    "        prediction = model.predict(X)\n",
    "        ko_prediction = ko_model.predict(X)\n",
    "        ko_predict_name=[]\n",
    "        np.set_printoptions(formatter={'float': lambda x: \"{0:0.3f}\".format(x)})\n",
    "        print(ko_prediction)\n",
    "        predict_name = preprocessing(prediction)\n",
    "        ko_predict_name = ko_preprocessing(ko_prediction)\n",
    "        #이 비교는 그냥 파일들이 있으면 해당 파일과 비교. 카테고리와 함께 비교해서 진행하는 것은 _4 파일.\n",
    "        \n",
    "        print(predict_name)\n",
    "        for i in ko_predict_name:\n",
    "            print(i)\n",
    "        execute = \"\"\"update files set predictlocation=:predict_name where filename=:filename\"\"\"\n",
    "        cursor.execute(execute, [predict_name,filename])\n",
    "        db.commit()\n",
    "        ko_place=''\n",
    "        for i in range(len(ko_predict_name)):\n",
    "            if i==(len(ko_predict_name)-1):\n",
    "                url='KOREAPLACE='+ko_predict_name[i] \n",
    "                ko_place+=url\n",
    "            else:\n",
    "                url='KOREAPLACE='+ko_predict_name[i]+'&'\n",
    "                ko_place+=url\n",
    "        return redirect(\"http://192.168.43.59:8082/Algo/RecommendPage.jsp?OVERSEAPLACE=\"+predict_name+\"&\"+ko_place)\n",
    "                       \n",
    "#         return redirect(\"http://172.30.1.50:8082/Algo/RecommendPage.jsp?OVERSEAPLACE=\"+predict_name)\n",
    "if __name__ == \"__main__\" :   # .py 파일에서 main 함수 역할하는 코드\n",
    "    app.run(host=\"192.168.43.59\",port=\"9000\")"
   ]
  },
  {
   "cell_type": "code",
   "execution_count": null,
   "metadata": {},
   "outputs": [],
   "source": []
  }
 ],
 "metadata": {
  "kernelspec": {
   "display_name": "Python 3",
   "language": "python",
   "name": "python3"
  },
  "language_info": {
   "codemirror_mode": {
    "name": "ipython",
    "version": 3
   },
   "file_extension": ".py",
   "mimetype": "text/x-python",
   "name": "python",
   "nbconvert_exporter": "python",
   "pygments_lexer": "ipython3",
   "version": "3.6.12"
  }
 },
 "nbformat": 4,
 "nbformat_minor": 4
}
